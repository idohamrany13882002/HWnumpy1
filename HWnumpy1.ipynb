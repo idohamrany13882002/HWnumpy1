{
 "cells": [
  {
   "cell_type": "code",
   "execution_count": 2,
   "id": "3adfcff4-d8c2-4ae5-9cbc-b4b6721c4ed3",
   "metadata": {},
   "outputs": [
    {
     "name": "stdout",
     "output_type": "stream",
     "text": [
      "Requirement already satisfied: numpy in /opt/anaconda3/lib/python3.12/site-packages (1.26.4)\n"
     ]
    }
   ],
   "source": [
    "!pip install numpy\n",
    "import numpy as np"
   ]
  },
  {
   "cell_type": "markdown",
   "id": "b3462a25-421c-4a76-9319-7fa60793a8c3",
   "metadata": {},
   "source": [
    "### exercise 1"
   ]
  },
  {
   "cell_type": "code",
   "execution_count": 4,
   "id": "20801f24-0453-4ff2-b9ea-d9fe985ca64e",
   "metadata": {},
   "outputs": [
    {
     "data": {
      "text/plain": [
       "array([ 1,  2,  3,  4,  5,  6,  7,  8,  9, 10])"
      ]
     },
     "execution_count": 4,
     "metadata": {},
     "output_type": "execute_result"
    }
   ],
   "source": [
    "np.arange(1,10+1,1)"
   ]
  },
  {
   "cell_type": "code",
   "execution_count": 5,
   "id": "7d0a81ca-3359-421c-b32f-b4a38800484d",
   "metadata": {},
   "outputs": [
    {
     "data": {
      "text/plain": [
       "array([0.5 , 0.75, 1.  , 1.25, 1.5 , 1.75, 2.  , 2.25, 2.5 , 2.75, 3.  ,\n",
       "       3.25, 3.5 , 3.75, 4.  , 4.25, 4.5 , 4.75, 5.  ])"
      ]
     },
     "execution_count": 5,
     "metadata": {},
     "output_type": "execute_result"
    }
   ],
   "source": [
    "np.arange(0.5,5+0.25,0.25)"
   ]
  },
  {
   "cell_type": "markdown",
   "id": "7a188cac-50c4-440a-bc4c-d38d42da36d0",
   "metadata": {},
   "source": [
    "### exerise 2"
   ]
  },
  {
   "cell_type": "code",
   "execution_count": 7,
   "id": "77292a5d-3e24-476f-adb9-b07ad43896a4",
   "metadata": {},
   "outputs": [
    {
     "data": {
      "text/plain": [
       "array([0, 0, 0, 0, 0, 0, 0, 0, 0, 0])"
      ]
     },
     "execution_count": 7,
     "metadata": {},
     "output_type": "execute_result"
    }
   ],
   "source": [
    "np.zeros((10), dtype=int)"
   ]
  },
  {
   "cell_type": "code",
   "execution_count": 8,
   "id": "e79b7342-b8bf-4590-8e7b-559b9a74280e",
   "metadata": {},
   "outputs": [
    {
     "data": {
      "text/plain": [
       "array([[0, 0, 0, 0],\n",
       "       [0, 0, 0, 0],\n",
       "       [0, 0, 0, 0]])"
      ]
     },
     "execution_count": 8,
     "metadata": {},
     "output_type": "execute_result"
    }
   ],
   "source": [
    "np.zeros((3,4), dtype=int)"
   ]
  },
  {
   "cell_type": "markdown",
   "id": "1a99f7fc-d2a6-40dd-be67-7709ba1fcc71",
   "metadata": {},
   "source": [
    "### exerise 3"
   ]
  },
  {
   "cell_type": "code",
   "execution_count": 10,
   "id": "1f31cc7c-7900-4497-8b29-896e497016ba",
   "metadata": {},
   "outputs": [
    {
     "data": {
      "text/plain": [
       "array([ 2. ,  4.5,  7. ,  9.5, 12. ])"
      ]
     },
     "execution_count": 10,
     "metadata": {},
     "output_type": "execute_result"
    }
   ],
   "source": [
    "np.linspace(2,12,5)"
   ]
  },
  {
   "cell_type": "code",
   "execution_count": 11,
   "id": "419edd14-3ade-4d7b-8f6e-d19dde17f1b4",
   "metadata": {},
   "outputs": [
    {
     "data": {
      "text/plain": [
       "array([3., 5., 7., 9.])"
      ]
     },
     "execution_count": 11,
     "metadata": {},
     "output_type": "execute_result"
    }
   ],
   "source": [
    "np.linspace(3,9,4)"
   ]
  },
  {
   "cell_type": "markdown",
   "id": "48a1bb04-2858-489a-998b-684a40b413a8",
   "metadata": {},
   "source": [
    "### exerise 4"
   ]
  },
  {
   "cell_type": "code",
   "execution_count": 13,
   "id": "41b2d7b2-d41c-4866-9e34-d28205f55caf",
   "metadata": {},
   "outputs": [
    {
     "data": {
      "text/plain": [
       "array([[0.31440595, 0.69734909, 0.76289843, 0.49036723],\n",
       "       [0.64457184, 0.73610691, 0.23161156, 0.77958894]])"
      ]
     },
     "execution_count": 13,
     "metadata": {},
     "output_type": "execute_result"
    }
   ],
   "source": [
    "np.random.rand(2,4)"
   ]
  },
  {
   "cell_type": "code",
   "execution_count": 14,
   "id": "7e68c00c-8e65-4235-a986-1a72bbef7933",
   "metadata": {},
   "outputs": [
    {
     "data": {
      "text/plain": [
       "array([[19, 17, 16],\n",
       "       [12, 18, 18],\n",
       "       [10, 18, 11]])"
      ]
     },
     "execution_count": 14,
     "metadata": {},
     "output_type": "execute_result"
    }
   ],
   "source": [
    "np.random.randint(10,21,(3,3))"
   ]
  },
  {
   "cell_type": "markdown",
   "id": "f75c7542-32c7-4104-b1f7-1105b99b91bb",
   "metadata": {},
   "source": [
    "### exerise 5"
   ]
  },
  {
   "cell_type": "markdown",
   "id": "c5790919-aca4-44a7-ab5e-2a7a59cb87aa",
   "metadata": {},
   "source": [
    "If we'll randomise numbers using a fixed seed number, the result will always be the same.\n",
    "The advantages of using seed numbers are that you can mimic the same results by using the same seed number."
   ]
  }
 ],
 "metadata": {
  "kernelspec": {
   "display_name": "Python 3 (ipykernel)",
   "language": "python",
   "name": "python3"
  },
  "language_info": {
   "codemirror_mode": {
    "name": "ipython",
    "version": 3
   },
   "file_extension": ".py",
   "mimetype": "text/x-python",
   "name": "python",
   "nbconvert_exporter": "python",
   "pygments_lexer": "ipython3",
   "version": "3.12.7"
  }
 },
 "nbformat": 4,
 "nbformat_minor": 5
}
